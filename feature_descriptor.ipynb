{
 "cells": [
  {
   "cell_type": "code",
   "execution_count": 15,
   "metadata": {},
   "outputs": [],
   "source": [
    "import cv2\n",
    "import numpy as np\n",
    "import matplotlib.pyplot as plt\n",
    "import matplotlib.image as mpimg\n",
    "\n"
   ]
  },
  {
   "cell_type": "code",
   "execution_count": 26,
   "metadata": {},
   "outputs": [],
   "source": [
    "# Load the image\n",
    "image_path = 'dataset/minions.jpg'\n",
    "img = cv2.imread(image_path)\n",
    "\n",
    "if img is None:\n",
    "    raise FileNotFoundError(f\"Error: Unable to load image at {image_path}. Please check the path.\")"
   ]
  },
  {
   "cell_type": "code",
   "execution_count": 29,
   "metadata": {},
   "outputs": [
    {
     "ename": "error",
     "evalue": "OpenCV(4.11.0) D:\\a\\opencv-python\\opencv-python\\opencv\\modules\\objdetect\\src\\hog.cpp:95: error: (-215:Assertion failed) (winSize.width - blockSize.width) % blockStride.width == 0 && (winSize.height - blockSize.height) % blockStride.height == 0 in function 'cv::HOGDescriptor::getDescriptorSize'\n",
     "output_type": "error",
     "traceback": [
      "\u001b[31m---------------------------------------------------------------------------\u001b[39m",
      "\u001b[31merror\u001b[39m                                     Traceback (most recent call last)",
      "\u001b[36mCell\u001b[39m\u001b[36m \u001b[39m\u001b[32mIn[29]\u001b[39m\u001b[32m, line 19\u001b[39m\n\u001b[32m     16\u001b[39m hog = cv2.HOGDescriptor(win_size, block_size, block_stride, cell_size, num_bins)\n\u001b[32m     18\u001b[39m \u001b[38;5;66;03m# Compute the HOG Descriptor for the gray scale image\u001b[39;00m\n\u001b[32m---> \u001b[39m\u001b[32m19\u001b[39m hog_descriptor = \u001b[43mhog\u001b[49m\u001b[43m.\u001b[49m\u001b[43mcompute\u001b[49m\u001b[43m(\u001b[49m\u001b[43mimg_gray\u001b[49m\u001b[43m)\u001b[49m\n\u001b[32m     21\u001b[39m \u001b[38;5;28mprint\u001b[39m (\u001b[33m'\u001b[39m\u001b[33mHOG Descriptor:\u001b[39m\u001b[33m'\u001b[39m, hog_descriptor)\n\u001b[32m     22\u001b[39m \u001b[38;5;28mprint\u001b[39m (\u001b[33m'\u001b[39m\u001b[33mHOG Descriptor has shape:\u001b[39m\u001b[33m'\u001b[39m, hog_descriptor.shape)\n",
      "\u001b[31merror\u001b[39m: OpenCV(4.11.0) D:\\a\\opencv-python\\opencv-python\\opencv\\modules\\objdetect\\src\\hog.cpp:95: error: (-215:Assertion failed) (winSize.width - blockSize.width) % blockStride.width == 0 && (winSize.height - blockSize.height) % blockStride.height == 0 in function 'cv::HOGDescriptor::getDescriptorSize'\n"
     ]
    }
   ],
   "source": [
    "# Convert the original image to RGB\n",
    "img_rgb = cv2.cvtColor(img, cv2.COLOR_BGR2RGB)\n",
    "\n",
    "\n",
    "# Convert the original image to grayscale\n",
    "img_gray = cv2.cvtColor(img, cv2.COLOR_BGR2GRAY)\n",
    "\n",
    "# Specify the parameters for our HOG descriptor\n",
    "win_size = img_gray.shape\n",
    "cell_size = (8, 8)\n",
    "block_size = (16, 16)\n",
    "block_stride = (8, 8)\n",
    "num_bins = 9\n",
    "\n",
    "# Set the parameters of the HOG descriptor using the variables defined above\n",
    "hog = cv2.HOGDescriptor(win_size, block_size, block_stride, cell_size, num_bins)\n",
    "\n",
    "# Compute the HOG Descriptor for the gray scale image\n",
    "hog_descriptor = hog.compute(img_gray)\n",
    "\n",
    "print ('HOG Descriptor:', hog_descriptor)\n",
    "print ('HOG Descriptor has shape:', hog_descriptor.shape)\n"
   ]
  },
  {
   "cell_type": "code",
   "execution_count": null,
   "metadata": {},
   "outputs": [],
   "source": []
  }
 ],
 "metadata": {
  "kernelspec": {
   "display_name": "venv",
   "language": "python",
   "name": "python3"
  },
  "language_info": {
   "codemirror_mode": {
    "name": "ipython",
    "version": 3
   },
   "file_extension": ".py",
   "mimetype": "text/x-python",
   "name": "python",
   "nbconvert_exporter": "python",
   "pygments_lexer": "ipython3",
   "version": "3.11.6"
  }
 },
 "nbformat": 4,
 "nbformat_minor": 2
}
